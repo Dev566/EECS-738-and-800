{
 "cells": [
  {
   "cell_type": "code",
   "execution_count": 1,
   "metadata": {},
   "outputs": [],
   "source": [
    "import numpy as np\n",
    "import pandas as pd\n",
    "import matplotlib.pyplot as plt"
   ]
  },
  {
   "cell_type": "markdown",
   "metadata": {},
   "source": [
    "# Reading the Data"
   ]
  },
  {
   "cell_type": "code",
   "execution_count": 3,
   "metadata": {},
   "outputs": [],
   "source": [
    "urlTrain = \"HousingData_LinearRegression.csv\"\n",
    "df = pd.read_csv(urlTrain)"
   ]
  },
  {
   "cell_type": "code",
   "execution_count": 4,
   "metadata": {},
   "outputs": [
    {
     "data": {
      "text/html": [
       "<div>\n",
       "<style scoped>\n",
       "    .dataframe tbody tr th:only-of-type {\n",
       "        vertical-align: middle;\n",
       "    }\n",
       "\n",
       "    .dataframe tbody tr th {\n",
       "        vertical-align: top;\n",
       "    }\n",
       "\n",
       "    .dataframe thead th {\n",
       "        text-align: right;\n",
       "    }\n",
       "</style>\n",
       "<table border=\"1\" class=\"dataframe\">\n",
       "  <thead>\n",
       "    <tr style=\"text-align: right;\">\n",
       "      <th></th>\n",
       "      <th>Size</th>\n",
       "      <th>Bedrooms</th>\n",
       "      <th>Price(USD)</th>\n",
       "    </tr>\n",
       "  </thead>\n",
       "  <tbody>\n",
       "    <tr>\n",
       "      <th>0</th>\n",
       "      <td>2104</td>\n",
       "      <td>3</td>\n",
       "      <td>399900</td>\n",
       "    </tr>\n",
       "    <tr>\n",
       "      <th>1</th>\n",
       "      <td>1600</td>\n",
       "      <td>3</td>\n",
       "      <td>329900</td>\n",
       "    </tr>\n",
       "    <tr>\n",
       "      <th>2</th>\n",
       "      <td>2400</td>\n",
       "      <td>3</td>\n",
       "      <td>369000</td>\n",
       "    </tr>\n",
       "    <tr>\n",
       "      <th>3</th>\n",
       "      <td>1416</td>\n",
       "      <td>2</td>\n",
       "      <td>232000</td>\n",
       "    </tr>\n",
       "    <tr>\n",
       "      <th>4</th>\n",
       "      <td>3000</td>\n",
       "      <td>4</td>\n",
       "      <td>539900</td>\n",
       "    </tr>\n",
       "  </tbody>\n",
       "</table>\n",
       "</div>"
      ],
      "text/plain": [
       "   Size  Bedrooms  Price(USD)\n",
       "0  2104         3      399900\n",
       "1  1600         3      329900\n",
       "2  2400         3      369000\n",
       "3  1416         2      232000\n",
       "4  3000         4      539900"
      ]
     },
     "execution_count": 4,
     "metadata": {},
     "output_type": "execute_result"
    }
   ],
   "source": [
    "df.head()"
   ]
  },
  {
   "cell_type": "markdown",
   "metadata": {},
   "source": [
    "Use standard deviation for normalization"
   ]
  },
  {
   "cell_type": "code",
   "execution_count": 5,
   "metadata": {},
   "outputs": [
    {
     "data": {
      "text/html": [
       "<div>\n",
       "<style scoped>\n",
       "    .dataframe tbody tr th:only-of-type {\n",
       "        vertical-align: middle;\n",
       "    }\n",
       "\n",
       "    .dataframe tbody tr th {\n",
       "        vertical-align: top;\n",
       "    }\n",
       "\n",
       "    .dataframe thead th {\n",
       "        text-align: right;\n",
       "    }\n",
       "</style>\n",
       "<table border=\"1\" class=\"dataframe\">\n",
       "  <thead>\n",
       "    <tr style=\"text-align: right;\">\n",
       "      <th></th>\n",
       "      <th>Ones</th>\n",
       "      <th>Size</th>\n",
       "      <th>Bedrooms</th>\n",
       "      <th>Price(USD)</th>\n",
       "    </tr>\n",
       "  </thead>\n",
       "  <tbody>\n",
       "    <tr>\n",
       "      <th>0</th>\n",
       "      <td>1</td>\n",
       "      <td>0.130010</td>\n",
       "      <td>-0.223675</td>\n",
       "      <td>0.475747</td>\n",
       "    </tr>\n",
       "    <tr>\n",
       "      <th>1</th>\n",
       "      <td>1</td>\n",
       "      <td>-0.504190</td>\n",
       "      <td>-0.223675</td>\n",
       "      <td>-0.084074</td>\n",
       "    </tr>\n",
       "    <tr>\n",
       "      <th>2</th>\n",
       "      <td>1</td>\n",
       "      <td>0.502476</td>\n",
       "      <td>-0.223675</td>\n",
       "      <td>0.228626</td>\n",
       "    </tr>\n",
       "    <tr>\n",
       "      <th>3</th>\n",
       "      <td>1</td>\n",
       "      <td>-0.735723</td>\n",
       "      <td>-1.537767</td>\n",
       "      <td>-0.867025</td>\n",
       "    </tr>\n",
       "    <tr>\n",
       "      <th>4</th>\n",
       "      <td>1</td>\n",
       "      <td>1.257476</td>\n",
       "      <td>1.090417</td>\n",
       "      <td>1.595389</td>\n",
       "    </tr>\n",
       "  </tbody>\n",
       "</table>\n",
       "</div>"
      ],
      "text/plain": [
       "   Ones      Size  Bedrooms  Price(USD)\n",
       "0     1  0.130010 -0.223675    0.475747\n",
       "1     1 -0.504190 -0.223675   -0.084074\n",
       "2     1  0.502476 -0.223675    0.228626\n",
       "3     1 -0.735723 -1.537767   -0.867025\n",
       "4     1  1.257476  1.090417    1.595389"
      ]
     },
     "execution_count": 5,
     "metadata": {},
     "output_type": "execute_result"
    }
   ],
   "source": [
    "dfNorm=pd.DataFrame(((df-df.mean())/df.std()))\n",
    "#df.apply(lambda x: (x - DataFrame.mean(x)) / (DataFrame.std(x)))\n",
    "dfNorm.insert(0, 'Ones', 1)\n",
    "dfNorm.head()"
   ]
  },
  {
   "cell_type": "markdown",
   "metadata": {},
   "source": [
    "1. After you've added the intercept term, define X as the features in the dataframe. Define Y as the target variable.\n",
    "2. Convert them to a numpy array and define beta(the coeffecients) with zeros."
   ]
  },
  {
   "cell_type": "code",
   "execution_count": 6,
   "metadata": {},
   "outputs": [],
   "source": [
    "column = dfNorm.shape[1]\n",
    "X = dfNorm.iloc[:,0:column-1]\n",
    "Y = dfNorm.iloc[:,column-1:column]\n",
    "#Y = dfNorm['Price(USD)']\n",
    "#X = dfNorm.drop('Price(USD)', axis = 1)"
   ]
  },
  {
   "cell_type": "code",
   "execution_count": 7,
   "metadata": {},
   "outputs": [
    {
     "name": "stdout",
     "output_type": "stream",
     "text": [
      "   Ones      Size  Bedrooms\n",
      "0     1  0.130010 -0.223675\n",
      "1     1 -0.504190 -0.223675\n",
      "2     1  0.502476 -0.223675\n",
      "3     1 -0.735723 -1.537767\n",
      "4     1  1.257476  1.090417\n"
     ]
    }
   ],
   "source": [
    "print(X.head())"
   ]
  },
  {
   "cell_type": "code",
   "execution_count": 8,
   "metadata": {},
   "outputs": [
    {
     "name": "stdout",
     "output_type": "stream",
     "text": [
      "   Price(USD)\n",
      "0    0.475747\n",
      "1   -0.084074\n",
      "2    0.228626\n",
      "3   -0.867025\n",
      "4    1.595389\n"
     ]
    }
   ],
   "source": [
    "print(Y.head())"
   ]
  },
  {
   "cell_type": "code",
   "execution_count": 9,
   "metadata": {},
   "outputs": [],
   "source": [
    "XMatrix = np.matrix(X.values)  \n",
    "YMatrix = np.matrix(Y.values)"
   ]
  },
  {
   "cell_type": "code",
   "execution_count": 11,
   "metadata": {},
   "outputs": [
    {
     "name": "stdout",
     "output_type": "stream",
     "text": [
      "47 3\n"
     ]
    }
   ],
   "source": [
    "m, n = np.shape(XMatrix)\n",
    "print(m , n)"
   ]
  },
  {
   "cell_type": "markdown",
   "metadata": {},
   "source": [
    "Initilize the beta values to zeroes"
   ]
  },
  {
   "cell_type": "code",
   "execution_count": 12,
   "metadata": {},
   "outputs": [],
   "source": [
    "beta = np.zeros(n)"
   ]
  },
  {
   "cell_type": "code",
   "execution_count": 14,
   "metadata": {},
   "outputs": [
    {
     "name": "stdout",
     "output_type": "stream",
     "text": [
      "[[0. 0. 0.]]\n",
      "0.0\n"
     ]
    }
   ],
   "source": [
    "temp = np.matrix(np.zeros(beta.shape))\n",
    "print(temp)\n",
    "print(beta[0])\n",
    "#parameters = int(beta.ravel().shape[1])\n",
    "#print parameters"
   ]
  },
  {
   "cell_type": "markdown",
   "metadata": {},
   "source": [
    "Since we now have every module to calculate our cost function, we'll go ahead and define it."
   ]
  },
  {
   "cell_type": "code",
   "execution_count": 15,
   "metadata": {},
   "outputs": [],
   "source": [
    "def costFunction(X, Y, beta):\n",
    "    '''\n",
    "    Compute the Least Square Cost Function.\n",
    "    Return the calculated cost function.\n",
    "    '''\n",
    "    m, n = np.shape(X)\n",
    "    #print np.power(((X.dot(beta)) - Y), 2)\n",
    "    #cost=np.sum(np.square(X.dot(beta)-Y) ) / (2 * m)\n",
    "    cost=np.sum(np.square(np.dot(X, beta)-Y.T))/ (2 * m)\n",
    "    #print cost\n",
    "    return cost"
   ]
  },
  {
   "cell_type": "markdown",
   "metadata": {},
   "source": [
    "Define a Gradient Descent method that will update beta in every iteration and also update the cost."
   ]
  },
  {
   "cell_type": "code",
   "execution_count": 17,
   "metadata": {},
   "outputs": [],
   "source": [
    "def gradientDescent(X, Y, beta, alpha, iters):\n",
    "    '''\n",
    "    Compute the gradient descent function.\n",
    "    Return beta and the cost array.\n",
    "    '''\n",
    "    cost = np.zeros(iters)\n",
    "    m, n = np.shape(X)\n",
    "    i=0\n",
    "    print(\"first \" ,beta)\n",
    "    for i in range(iters):\n",
    "        Err=np.dot(X, beta)-Y.T\n",
    "        #print beta\n",
    "        j=0\n",
    "        for j in range(n):\n",
    "            tempBeta=beta[j]\n",
    "            tempBeta=tempBeta-((alpha / m) * np.sum(np.dot(Err, X[:,j])))\n",
    "            beta[j]=tempBeta\n",
    "            #print 1-((alpha / m) * np.sum(np.multiply(Err, X[:,j])))\n",
    "            #print beta\n",
    "        cost[i]=costFunction(X,Y,beta)\n",
    "        #print beta\n",
    "    #print beta[0], i\n",
    "    return beta, cost"
   ]
  },
  {
   "cell_type": "markdown",
   "metadata": {},
   "source": [
    "Define alpha and number of iterations of your choice and use them to call to gradientDescent function."
   ]
  },
  {
   "cell_type": "code",
   "execution_count": 18,
   "metadata": {},
   "outputs": [
    {
     "name": "stdout",
     "output_type": "stream",
     "text": [
      "first  [0. 0. 0.]\n"
     ]
    }
   ],
   "source": [
    "beta = np.zeros(n)\n",
    "#please try different values to see the results, but alpha=0.01 and iters=1000 are suggested.\n",
    "alpha = 0.01 \n",
    "iters = 1000\n",
    "\n",
    "result = gradientDescent(XMatrix, YMatrix, beta, alpha, iters)"
   ]
  },
  {
   "cell_type": "markdown",
   "metadata": {},
   "source": [
    "Implement the Ridge Regression regularization and report the change in coeffecients of the parameters."
   ]
  },
  {
   "cell_type": "code",
   "execution_count": 19,
   "metadata": {},
   "outputs": [
    {
     "data": {
      "text/plain": [
       "Text(0.5,1,'Error vs. Training Epoch')"
      ]
     },
     "execution_count": 19,
     "metadata": {},
     "output_type": "execute_result"
    }
   ],
   "source": [
    "fig, ax = plt.subplots(figsize=(12,8))  \n",
    "ax.plot(np.arange(iters), result[1], 'r',label =  'Unregulated')  \n",
    "ax.set_xlabel('Iterations')  \n",
    "ax.set_ylabel('Cost')  \n",
    "ax.set_title('Error vs. Training Epoch')"
   ]
  },
  {
   "cell_type": "code",
   "execution_count": 20,
   "metadata": {},
   "outputs": [
    {
     "name": "stdout",
     "output_type": "stream",
     "text": [
      "[-1.11069546e-16  8.78503652e-01 -4.69166570e-02]\n",
      "0.13070336960771892\n"
     ]
    }
   ],
   "source": [
    "print(beta)\n",
    "print(costFunction(XMatrix,YMatrix,beta))"
   ]
  },
  {
   "cell_type": "code",
   "execution_count": 21,
   "metadata": {},
   "outputs": [
    {
     "data": {
      "image/png": "[encoded data removed]",
      "text/plain": [
       "<Figure size 864x576 with 1 Axes>"
      ]
     },
     "metadata": {},
     "output_type": "display_data"
    }
   ],
   "source": [
    "plt.show()"
   ]
  },
  {
   "cell_type": "code",
   "execution_count": 22,
   "metadata": {},
   "outputs": [],
   "source": [
    "def costFunctionRidge(X, Y, beta,ridgeLambda):\n",
    "    '''\n",
    "    Compute the Least Square Cost Function.\n",
    "    Return the calculated cost function.\n",
    "    '''\n",
    "    m, n = np.shape(X)\n",
    "    #print (X.dot(beta)-Y) ** 2\n",
    "    #print np.square(X.dot(ridgeLambda)-Y).shape\n",
    "    #print (beta*ridgeLambda**2).shape\n",
    "    costRidge=(np.sum(np.square(X.dot(beta)-Y.T)) ) / (2 * m)\n",
    "    #+np.sum(beta*ridgeLambda**2)\n",
    "    return costRidge"
   ]
  },
  {
   "cell_type": "code",
   "execution_count": 23,
   "metadata": {},
   "outputs": [],
   "source": [
    "def gradientDescentRidge(X, Y, beta, alpha, itersreg, ridgeLambda):\n",
    "    '''\n",
    "    Compute the gradient descent function.\n",
    "    Return beta and the cost array.\n",
    "    '''\n",
    "    costRidge = np.zeros(iters)\n",
    "    m, n = np.shape(X)\n",
    "    i=0\n",
    "    #print \"first \" ,beta\n",
    "    for i in range(iters):\n",
    "        Err=np.dot(X, beta)-Y.T\n",
    "        #print Err.shape\n",
    "        j=0\n",
    "        for j in range(n):\n",
    "            tempBeta=beta[j]\n",
    "            tempBeta=tempBeta-((alpha / m) * np.sum(np.dot(Err, X[:,j])))+ beta[j]*ridgeLambda/m\n",
    "            beta[j]=tempBeta\n",
    "        costRidge[i]=costFunction(X,Y,beta)\n",
    "        \n",
    "    return beta, costRidge"
   ]
  },
  {
   "cell_type": "code",
   "execution_count": 24,
   "metadata": {},
   "outputs": [],
   "source": [
    "beta = np.zeros(n)\n",
    "alphareg = 0.01 \n",
    "itersreg = 1000\n",
    "ridgeLambda=0.05\n",
    "regResult = gradientDescentRidge(XMatrix, YMatrix, beta, alphareg, itersreg,ridgeLambda)"
   ]
  },
  {
   "cell_type": "markdown",
   "metadata": {},
   "source": [
    "Define alpha, number of iterations and lambda of your choice that minimizes the cost function and use them to call to gradientDescent function. Plot the cost graph with iterations titled \"Error vs training\" with and without regularization(y axis labeled as cost and x axix labeled as iterations). Then, calculate the MSE."
   ]
  },
  {
   "cell_type": "code",
   "execution_count": 25,
   "metadata": {},
   "outputs": [
    {
     "data": {
      "image/png": "[encoded data removed]",
      "text/plain": [
       "<Figure size 864x576 with 1 Axes>"
      ]
     },
     "metadata": {},
     "output_type": "display_data"
    }
   ],
   "source": [
    "fig, ax = plt.subplots(figsize=(12,8))  \n",
    "ax.plot(np.arange(iters), result[1], 'b') \n",
    "ax.plot(np.arange(iters), regResult[1], 'r')\n",
    "ax.set_xlabel('Iterations')  \n",
    "ax.set_ylabel('Cost')  \n",
    "ax.set_title('Error vs. Training Epoch. Unregulated(Blue) vs Regulated(Red)')\n",
    "plt.show()"
   ]
  },
  {
   "cell_type": "code",
   "execution_count": 26,
   "metadata": {},
   "outputs": [
    {
     "name": "stdout",
     "output_type": "stream",
     "text": [
      "[-1.11017964e-16  1.04556024e+00 -1.51690372e-01]\n"
     ]
    }
   ],
   "source": [
    "print(regResult[0])"
   ]
  },
  {
   "cell_type": "code",
   "execution_count": 27,
   "metadata": {},
   "outputs": [
    {
     "name": "stdout",
     "output_type": "stream",
     "text": [
      "Final Beta : [-1.11017964e-16  1.04556024e+00 -1.51690372e-01]\n",
      "MSE :  0.2788132786032512\n"
     ]
    }
   ],
   "source": [
    "print(\"Final Beta :\",beta)\n",
    "print(\"MSE : \" , 2*costFunction(XMatrix,YMatrix,beta))"
   ]
  },
  {
   "cell_type": "code",
   "execution_count": null,
   "metadata": {},
   "outputs": [],
   "source": []
  }
 ],
 "metadata": {
  "kernelspec": {
   "display_name": "Python 3",
   "language": "python",
   "name": "python3"
  },
  "language_info": {
   "codemirror_mode": {
    "name": "ipython",
    "version": 3
   },
   "file_extension": ".py",
   "mimetype": "text/x-python",
   "name": "python",
   "nbconvert_exporter": "python",
   "pygments_lexer": "ipython3",
   "version": "3.5.2"
  }
 },
 "nbformat": 4,
 "nbformat_minor": 2
}
